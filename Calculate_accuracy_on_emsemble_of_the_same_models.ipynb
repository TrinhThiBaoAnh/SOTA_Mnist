{
 "cells": [
  {
   "cell_type": "code",
   "execution_count": 2,
   "id": "33f39b2c",
   "metadata": {},
   "outputs": [],
   "source": [
    "import numpy as np"
   ]
  },
  {
   "cell_type": "code",
   "execution_count": 5,
   "id": "817f5a3f",
   "metadata": {},
   "outputs": [
    {
     "name": "stdout",
     "output_type": "stream",
     "text": [
      "max_test_acc: 99.780\n",
      "max_test_acc: 99.750\n",
      "max_test_acc: 99.730\n",
      "max_test_acc: 99.790\n",
      "max_test_acc: 99.740\n",
      "max_test_acc: 99.730\n",
      "max_test_acc: 99.780\n",
      "max_test_acc: 99.740\n",
      "max_test_acc: 99.790\n",
      "98.440\n",
      "99.60651111111106\n"
     ]
    }
   ],
   "source": [
    "def avg(a):\n",
    "    s=0;\n",
    "    \n",
    "    for i in a:\n",
    "        s+=float(i);\n",
    "    return s/len(a)\n",
    "a=[]\n",
    "b=[]\n",
    "for i in range(1,10):\n",
    "    file1 = open(str(\"log00%d.out\"%(i)), \"r+\")\n",
    "    epochs, train_losss, train_accuracys, test_losss, test_accuracys, best_test_accuracys = [],[],[],[],[],[] \n",
    "    #print(\"Output of Read function is \")\n",
    "    lines = file1.readlines()\n",
    "   # print(lines)\n",
    "    for j in range(len(lines)):\n",
    "            epoch, train_loss, train_accuracy, test_loss, test_accuracy, best_test_accuracy = lines[j].split()\n",
    "            #print(epoch, train_loss, train_accuracy, test_loss, test_accuracy, best_test_accuracy )\n",
    "\n",
    "            epochs.append(epoch)\n",
    "            train_losss.append(train_loss)\n",
    "            train_accuracys.append(train_accuracy)\n",
    "            test_losss.append(test_loss)\n",
    "            test_accuracys.append(test_accuracy)\n",
    "            best_test_accuracys.append(best_test_accuracy)\n",
    "    epochs = np.asarray(epochs)\n",
    "    train_losss = np.asarray(train_losss)\n",
    "    train_accuracys = np.asarray(train_accuracys)\n",
    "    test_losss = np.asarray(test_losss)\n",
    "    test_accuracys = np.asarray(test_accuracys)\n",
    "    best_test_accuracys = np.asarray(best_test_accuracys)\n",
    "        \n",
    "    b.append(min(best_test_accuracys))\n",
    "    print(\"max_test_acc:\",best_test_accuracy)\n",
    "    a.append(avg(test_accuracys))\n",
    "print(min(b))\n",
    "print(avg(a))"
   ]
  },
  {
   "cell_type": "code",
   "execution_count": null,
   "id": "7b4b5b8d",
   "metadata": {},
   "outputs": [],
   "source": []
  }
 ],
 "metadata": {
  "kernelspec": {
   "display_name": "Python 3 (ipykernel)",
   "language": "python",
   "name": "python3"
  },
  "language_info": {
   "codemirror_mode": {
    "name": "ipython",
    "version": 3
   },
   "file_extension": ".py",
   "mimetype": "text/x-python",
   "name": "python",
   "nbconvert_exporter": "python",
   "pygments_lexer": "ipython3",
   "version": "3.8.0"
  }
 },
 "nbformat": 4,
 "nbformat_minor": 5
}
